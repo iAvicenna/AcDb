{
 "cells": [
  {
   "cell_type": "code",
   "execution_count": 1,
   "id": "fleet-provincial",
   "metadata": {},
   "outputs": [],
   "source": [
    "import os\n",
    "import sys\n",
    "import json\n",
    "from test_fun import deep_eq\n",
    "current_dir = os.path.abspath('')\n",
    "parent_dir = os.path.dirname(current_dir)\n",
    "sys.path.append(parent_dir)\n",
    "\n",
    "from AcDb import db_experiment_list, db_anti_list"
   ]
  },
  {
   "cell_type": "code",
   "execution_count": 2,
   "id": "beginning-natural",
   "metadata": {},
   "outputs": [],
   "source": [
    "# loading experiments, antigens and sera\n",
    "# these inherit from db_list which is essentially a list\n",
    "# of dictionaries with some extra checks during appending,\n",
    "# inserting etc to guarantee that data you are trying to enter\n",
    "# satisfies certain criteria such as uniqueness of ID.\n",
    "\n",
    "database_dir = current_dir + '/test_datasets/'\n",
    "\n",
    "exp_list = db_experiment_list(database_dir+'test_results.json')\n",
    "antigen_list = db_anti_list(database_dir+'test_antigens.json')\n",
    "serum_list = db_anti_list(database_dir+'test_sera.json')"
   ]
  },
  {
   "cell_type": "code",
   "execution_count": 3,
   "id": "inner-letters",
   "metadata": {},
   "outputs": [
    {
     "name": "stdout",
     "output_type": "stream",
     "text": [
      "{'name': 'Additional high priority candidate titrations', 'id': 'A6V55O', 'description': 'Some description', 'results': [{'assay': 'HI', 'conducted_by': '', 'date': '2020-02-13', 'comments': '', 'file': '', 'antigen_ids': ['14846I', '2U7GA8', 'NK4KU7', 'CXSYDG', 'SL0DT0', 'I4Z8K3', 'ARTLF7', '9FJOVM', '7N90YJ', '7CJ09K'], 'serum_ids': ['8VCWN7', 'S8NG60', 'IJ4HOU', '77POTS', 'K4L7B9', 'CC042E', '99DNPD', '595LCW', 'NRIBGF', 'W7GP5D'], 'titers': [['<10', '<10', '<10', '<10', '40/80', '<10', '<10', '<10', '<10', '<10'], ['<10', '<10', '<10', '<10', '20/40', '<10', '<10', '<10', '<10', '<10'], ['<10', '<10', '<10', '<10', '40/80', '<10', '<10', '<10', '<10', '<10'], ['<10', '<10', '<10', '<10', '<10', '<10', '<10', '<10', '<10', '<10'], ['<10', '<10', '<10', '<10', '<10', '<10', '<10', '<10', '<10', '<10'], ['<10', '<10', '<10', '<10', '<10', '<10', '<10', '<10', '<10', '<10'], ['<10', '<10', '<10', '<10', '<10', '<10', '<10', '<10', '<10', '<10'], ['<10', '<10', '<10', '<10', '<10', '<10', '<10', '<10', '<10', '<10'], ['<10', '<10', '<10', '<10', '80', '<10', '<10', '<10', '<10', '<10'], ['<10', '<10', '<10', '<10', '<10', '<10', '<10', '<10', '<10', '<10']], 'conducted by': ''}]}\n",
      "\n"
     ]
    }
   ],
   "source": [
    "# we will first experiment with manipulations of exp_list\n",
    "print(exp_list)"
   ]
  },
  {
   "cell_type": "code",
   "execution_count": 4,
   "id": "heated-dinner",
   "metadata": {},
   "outputs": [
    {
     "name": "stdout",
     "output_type": "stream",
     "text": [
      "an entry with the same id A6V55O already exists in the database (entry 0)\n"
     ]
    }
   ],
   "source": [
    "# lets take the first entry from this dataset and try appending\n",
    "# it as a new entry\n",
    "entry = exp_list[0].copy()\n",
    "\n",
    "# it should have a unique id so below will fail\n",
    "try:\n",
    "    exp_list.append(entry)\n",
    "except ValueError as e:\n",
    "    print(e)\n",
    "    "
   ]
  },
  {
   "cell_type": "code",
   "execution_count": 5,
   "id": "governmental-headset",
   "metadata": {},
   "outputs": [],
   "source": [
    "# one can generate an id using the function below and it should work fine\n",
    "entry['id'] = exp_list.generate_new_id()  # hint this is a base property of db_list from which the \n",
    "                                          # experiment and anti lists inherit from\n",
    "exp_list.append(entry)\n"
   ]
  },
  {
   "cell_type": "code",
   "execution_count": 6,
   "id": "elementary-lingerie",
   "metadata": {},
   "outputs": [
    {
     "name": "stdout",
     "output_type": "stream",
     "text": [
      "entry results should be a non-empty list\n",
      "\n",
      "all entries in results should be a dictionary\n",
      "\n",
      "titers does not exist in result 0 of experiment New entry\n",
      "\n",
      "some titers in result 0 of experiment New entry have unknown format\n",
      "\n"
     ]
    }
   ],
   "source": [
    "# one can actually create a new entry using the create_entry function.\n",
    "# Here you dont need to supply an id as the list will automatically \n",
    "# create a unique id. However it is required to have a name, description\n",
    "# and results field. Results fields also needs to pass some basic checks\n",
    "# as demonsrated below.\n",
    "\n",
    "try:\n",
    "    exp_list.create_entry(ename='New entry', edesc='New entry created to fail', eresults=[])\n",
    "except AssertionError as e:\n",
    "    print(e, end='\\n\\n')\n",
    "\n",
    "try:\n",
    "    exp_list.create_entry(ename='New entry', edesc='New entry created to fail', eresults=['Stop pestering me'])\n",
    "except AssertionError as e:\n",
    "    print(e, end='\\n\\n')\n",
    " \n",
    "try:\n",
    "    exp_list.create_entry(ename='New entry', edesc='New entry created to fail', eresults=[{'please':'I will put my results later I promise'}])\n",
    "except AssertionError as e:\n",
    "    print(e, end='\\n\\n')\n",
    " \n",
    "\n",
    "results = [{'antigen_ids':['AAAAAA'], 'serum_ids':['BBBBBB'], 'date':'now', \n",
    "       'file':'fake.csv', 'conducted_by':'Sina', 'assay':'HI', 'titers':[['put later']]}]    \n",
    "\n",
    "try:\n",
    "    exp_list.create_entry(ename='New entry', edesc='New entry created to fail', eresults=results)\n",
    "except AssertionError as e:\n",
    "    print(e, end='\\n\\n')\n",
    " "
   ]
  },
  {
   "cell_type": "code",
   "execution_count": 7,
   "id": "functional-weekly",
   "metadata": {},
   "outputs": [],
   "source": [
    "# now a correct entry\n",
    "\n",
    "results = [{'antigen_ids':['AAAAAA'], 'serum_ids':['BBBBBB'], 'date':'now', \n",
    "       'file':'fake.csv', 'conducted_by':'Sina', 'assay':'HI', 'titers':[['1260']]}]\n",
    "exp_list.create_entry(ename='New entry', edesc='New entry created to fail', eresults=results)"
   ]
  },
  {
   "cell_type": "code",
   "execution_count": 8,
   "id": "toxic-owner",
   "metadata": {},
   "outputs": [
    {
     "name": "stdout",
     "output_type": "stream",
     "text": [
      "True\n",
      "False\n"
     ]
    }
   ],
   "source": [
    "# once you are done entering your data (correctly), you can save it as a json file\n",
    "# to check read and write functionalities lets try reloading, saving and passing \n",
    "# it through a deep equality test (i.e a decode-encode = identity test)\n",
    "# however writing experiment_lists needs to pass a cross_check which is discussed later\n",
    "# so for now I will just turn it off\n",
    "\n",
    "exp_list1 = db_experiment_list(database_dir+'test_results.json')\n",
    "exp_list1._cross_check_required=False\n",
    "exp_list1.write(database_dir+'test_results2.json')\n",
    "\n",
    "#to do the test on a lower level, we will read the files with json\n",
    "with open(database_dir+'test_results.json', 'r') as fileobj:\n",
    "            exp_list1 = json.load(fileobj)\n",
    "\n",
    "with open(database_dir+'test_results2.json', 'r') as fileobj:\n",
    "            exp_list2 = json.load(fileobj)\n",
    "\n",
    "print(deep_eq(exp_list1, exp_list2))\n",
    "\n",
    "# is this deep_eq function working correctly?\n",
    "exp_list1[0]['name']='What??'\n",
    "print(deep_eq(exp_list1, exp_list2))"
   ]
  },
  {
   "cell_type": "code",
   "execution_count": 9,
   "id": "arabic-direction",
   "metadata": {},
   "outputs": [
    {
     "name": "stdout",
     "output_type": "stream",
     "text": [
      "an entry with the same id 14846I already exists in the database (entry 0)\n"
     ]
    }
   ],
   "source": [
    "# lets play around with antigen and sera lists now\n",
    "# now lets load antibody and serum lists\n",
    "\n",
    "#lets try to add an existing entry again\n",
    "entry = antigen_list[0].copy()\n",
    "\n",
    "try:\n",
    "    antigen_list.append(entry)\n",
    "except ValueError as e:\n",
    "    print(e)"
   ]
  },
  {
   "cell_type": "code",
   "execution_count": 10,
   "id": "domestic-crowd",
   "metadata": {},
   "outputs": [],
   "source": [
    "# lets change its id and it should work:\n",
    "\n",
    "entry['id'] = antigen_list.generate_new_id()\n",
    "antigen_list.append(entry)\n"
   ]
  },
  {
   "cell_type": "code",
   "execution_count": 11,
   "id": "protected-catalog",
   "metadata": {},
   "outputs": [
    {
     "name": "stdout",
     "output_type": "stream",
     "text": [
      "{'id': 'B34413', 'long': 'A/VIETNAM/1194/2004-NIBRG-14', 'wildtype': False, 'passage': {'history': ['SIAT']}, 'groups': ['WT strain', 'clade 1']}\n",
      "{'id': '836477', 'long': 'Some antigen'}\n"
     ]
    }
   ],
   "source": [
    "# as with experiment lists you can create entries\n",
    "print(antigen_list[-1])\n",
    "antigen_list.create_entry(elong='Some antigen')\n",
    "print(antigen_list[-1])\n"
   ]
  },
  {
   "cell_type": "code",
   "execution_count": 12,
   "id": "downtown-daniel",
   "metadata": {},
   "outputs": [
    {
     "name": "stdout",
     "output_type": "stream",
     "text": [
      "Cross check for experiment list test experiment list not complete\n"
     ]
    }
   ],
   "source": [
    "# finally experiment lists have some cross-checking facility\n",
    "# for this you provide the cross_check function with antigen and serum \n",
    "# lists and the functions tests if these are compatible.\n",
    "# a cross-check is required for writing experiment lists to files\n",
    "# we will this time give exp_list a name too!\n",
    "\n",
    "exp_list = db_experiment_list(database_dir+'test_results.json', name='test experiment list')\n",
    "antigen_list = db_anti_list(database_dir+'test_antigens.json')\n",
    "serum_list = db_anti_list(database_dir+'test_sera.json')\n",
    "\n",
    "try:\n",
    "    exp_list.write(database_dir+'test_results2.json')\n",
    "except ValueError as e:\n",
    "    print(e)"
   ]
  },
  {
   "cell_type": "code",
   "execution_count": 13,
   "id": "heard-serum",
   "metadata": {},
   "outputs": [
    {
     "name": "stdout",
     "output_type": "stream",
     "text": [
      "Cross check of experiment list test experiment list succesful.\n"
     ]
    }
   ],
   "source": [
    "exp_list.cross_check(antigen_list, serum_list)\n",
    "exp_list.write(database_dir+'test_results2.json')\n"
   ]
  },
  {
   "cell_type": "code",
   "execution_count": 14,
   "id": "baking-emergency",
   "metadata": {},
   "outputs": [
    {
     "name": "stderr",
     "output_type": "stream",
     "text": [
      "WARNING:root:Sera ['BBBBBB'] of result 0 of experiment New result do not exist in serum_list\n",
      "WARNING:root:Antigens ['AAAAAA'] of result 0 of experiment New result do not exist in antigen_list\n"
     ]
    },
    {
     "name": "stdout",
     "output_type": "stream",
     "text": [
      "Cross check for experiment list test experiment list has failed\n"
     ]
    }
   ],
   "source": [
    "# works fine for now. Lets break it by adding a new result whose antigens\n",
    "# and sera dont appear in the antigen and sera list\n",
    "\n",
    "result = [{'antigen_ids':['AAAAAA'], 'serum_ids':['BBBBBB'], 'date':'now', \n",
    "           'file':'fake.csv', 'conducted_by':'Sina', 'assay':'HI', 'titers':[['1260']]}]\n",
    "exp_list.create_entry('New result', 'Some fake new result', result)\n",
    "exp_list.cross_check(antigen_list, serum_list)\n",
    "\n",
    "\n",
    "try:\n",
    "    exp_list.write(database_dir+'test_results2.json')\n",
    "except ValueError as e:\n",
    "    print(e)"
   ]
  },
  {
   "cell_type": "code",
   "execution_count": 15,
   "id": "continuous-boundary",
   "metadata": {},
   "outputs": [
    {
     "name": "stdout",
     "output_type": "stream",
     "text": [
      "Cross check of experiment list test experiment list succesful.\n"
     ]
    }
   ],
   "source": [
    "# lets add them and should work fine\n",
    "antigen_list.create_entry('Antigen1','AAAAAA')\n",
    "serum_list.create_entry('Serum1', 'BBBBBB')\n",
    "exp_list.cross_check(antigen_list, serum_list)\n",
    "exp_list.write(database_dir+'test_results2.json')\n"
   ]
  },
  {
   "cell_type": "code",
   "execution_count": 16,
   "id": "engaging-crown",
   "metadata": {},
   "outputs": [
    {
     "name": "stdout",
     "output_type": "stream",
     "text": [
      "entry AAAAAA already exists in the list\n"
     ]
    }
   ],
   "source": [
    "# cross-check can also fail if antigen and serum lists are not correct\n",
    "# for instance if a serum or antigen id in the experiment appears twice\n",
    "# in serum or antigen lists.\n",
    "\n",
    "# lets try to defile the antigen list \n",
    "try:\n",
    "    antigen_list.create_entry('Maybe new Antigen?','AAAAAA')\n",
    "except AssertionError as e:\n",
    "    print(e)\n",
    "    "
   ]
  },
  {
   "cell_type": "code",
   "execution_count": 17,
   "id": "minus-voice",
   "metadata": {},
   "outputs": [
    {
     "name": "stderr",
     "output_type": "stream",
     "text": [
      "WARNING:root:Antigens ['AAAAAA'] of result 0 of experiment New result appear multiple times in antigen_list\n"
     ]
    },
    {
     "name": "stdout",
     "output_type": "stream",
     "text": [
      "Cross check for experiment list test experiment list has failed\n"
     ]
    }
   ],
   "source": [
    "# need to turn checks off to defile the list\n",
    "antigen_list._check_new_entries = False\n",
    "antigen_list.create_entry('Maybe new Antigen?','AAAAAA')\n",
    "\n",
    "# now lets try cross-check and see that the antigen appears multiple times\n",
    "exp_list.cross_check(antigen_list, serum_list)\n",
    "try:\n",
    "    exp_list.write(database_dir+'test_results2.json')\n",
    "except ValueError as e:\n",
    "    print(e)"
   ]
  },
  {
   "cell_type": "code",
   "execution_count": 18,
   "id": "constitutional-flexibility",
   "metadata": {},
   "outputs": [
    {
     "name": "stdout",
     "output_type": "stream",
     "text": [
      "Cross check of experiment list test experiment list succesful.\n"
     ]
    }
   ],
   "source": [
    "antigen_list.pop(-1)\n",
    "exp_list.cross_check(antigen_list, serum_list)\n",
    "try:\n",
    "    exp_list.write(database_dir+'test_results2.json')\n",
    "except ValueError as e:\n",
    "    print(e)"
   ]
  }
 ],
 "metadata": {
  "kernelspec": {
   "display_name": "Python 3",
   "language": "python",
   "name": "python3"
  },
  "language_info": {
   "codemirror_mode": {
    "name": "ipython",
    "version": 3
   },
   "file_extension": ".py",
   "mimetype": "text/x-python",
   "name": "python",
   "nbconvert_exporter": "python",
   "pygments_lexer": "ipython3",
   "version": "3.7.9"
  }
 },
 "nbformat": 4,
 "nbformat_minor": 5
}
